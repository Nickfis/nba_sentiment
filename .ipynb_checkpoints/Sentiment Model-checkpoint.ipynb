{
 "cells": [
  {
   "cell_type": "code",
   "execution_count": 1,
   "metadata": {},
   "outputs": [],
   "source": [
    "%reload_ext autoreload\n",
    "%autoreload 2\n",
    "%matplotlib inline"
   ]
  },
  {
   "cell_type": "code",
   "execution_count": 3,
   "metadata": {},
   "outputs": [],
   "source": [
    "# from fastai.text import *\n",
    "import os"
   ]
  },
  {
   "cell_type": "markdown",
   "metadata": {},
   "source": [
    "# What did I do?\n",
    "\n",
    "# What do I wanna do?\n",
    "I would like to be able to showcase the sentiment surrounding each NBA team throughout the year 2019.<br>\n",
    "2 years ago, during my masters, I actually already tried out a very similar problem for a class. It went absolutely horrible. Spent the most amount of work compared to any other project and got one of the worst grades.\n",
    "So this, was a way for me to try out whether I can do this project easier and more accurate using the fastai library/\n",
    "\n",
    "# Approach\n",
    "First I needed to get the data. Using the twitterscraper library I downloaded (over the span of a few days) over 250k tweets with about 9k per team.\n",
    "Of course those are unlabelled, so I will also need a dataset that I can use to train a classifier. The structure should be the same, so I was looking for tweets that have been classified instead of for example movie reviews.<br>\n",
    "The sentiment140 dataset seemed like the perfect choice, holding 1.6 million annotated tweets. However it's been annotated automatically using emojis, which to me doesn't feel perfect. But it's a start.\n",
    "Also in order to save some money, I will only be using. "
   ]
  },
  {
   "cell_type": "markdown",
   "metadata": {},
   "source": [
    "# first create csv from all jsons in current directory\n",
    "\n",
    "If you've just uploaded all the json files from the twitterscraper to your cloud instance you will have to concat\n",
    "the files together and give labels to which team they belong to."
   ]
  },
  {
   "cell_type": "code",
   "execution_count": 4,
   "metadata": {},
   "outputs": [
    {
     "data": {
      "text/plain": [
       "['bucks.json',\n",
       " 'bulls.json',\n",
       " 'cavs.json',\n",
       " 'celtics.json',\n",
       " 'clippers.json',\n",
       " 'grizzlies.json',\n",
       " 'hawks.json',\n",
       " 'heat.json',\n",
       " 'hornets.json',\n",
       " 'jazz.json',\n",
       " 'kings.json',\n",
       " 'knicks.json',\n",
       " 'lakers.json',\n",
       " 'magic.json',\n",
       " 'mavs.json',\n",
       " 'nets.json',\n",
       " 'nuggets.json',\n",
       " 'pacers.json',\n",
       " 'pelicans.json',\n",
       " 'pistons.json',\n",
       " 'raptors.json',\n",
       " 'rockets.json',\n",
       " 'sixers.json',\n",
       " 'spurs.json',\n",
       " 'suns.json',\n",
       " 'thunder.json',\n",
       " 'trailblazers.json',\n",
       " 'warriors.json',\n",
       " 'wizards.json',\n",
       " 'wolves.json']"
      ]
     },
     "execution_count": 4,
     "metadata": {},
     "output_type": "execute_result"
    }
   ],
   "source": [
    "json_files = [file for file in os.listdir() if file.endswith('json')]\n",
    "json_files"
   ]
  },
  {
   "cell_type": "code",
   "execution_count": 3,
   "metadata": {},
   "outputs": [],
   "source": [
    "# json_files = [file for file in os.listdir() if file.endswith('json')]\n",
    "# json_files\n",
    "\n",
    "# df_list = []\n",
    "\n",
    "# for filestring in json_files:\n",
    "#     with open(filestring) as json_file:\n",
    "#         data = (pd.DataFrame(json.load(json_file))[['timestamp', 'text']]\n",
    "#                                 .assign(team=filestring.split('.json')[0]))\n",
    "\n",
    "#         df_list.append(data)\n",
    "\n",
    "# df = pd.concat(df_list)\n",
    "# df.to_csv('team_tweets.csv')"
   ]
  },
  {
   "cell_type": "markdown",
   "metadata": {},
   "source": [
    "# Working with the tweets"
   ]
  },
  {
   "cell_type": "code",
   "execution_count": 4,
   "metadata": {},
   "outputs": [],
   "source": [
    "# why the hell do I need path?\n",
    "path = Path(os.getcwd())"
   ]
  },
  {
   "cell_type": "code",
   "execution_count": 5,
   "metadata": {},
   "outputs": [],
   "source": [
    "# nba_tweets = (pd.read_csv('team_tweets.csv', engine='python')\n",
    "#               .dropna()\n",
    "#               .sample(50000, random_state=1)\n",
    "#               .reset_index(drop=True).drop(['index'], axis=1))"
   ]
  },
  {
   "cell_type": "code",
   "execution_count": 7,
   "metadata": {},
   "outputs": [],
   "source": [
    "encoding = 'ISO-8859-1'\n",
    "col_names = ['target', 'id', 'date', 'flag', 'user', 'text']\n",
    "twitter_sent = pd.read_csv(path/'training.1600000.processed.noemoticon.csv', \n",
    "                           encoding=encoding,\n",
    "                           low_memory=False, \n",
    "                           names=col_names)[['target', 'text']].dropna().sample(50000, random_state=1)"
   ]
  },
  {
   "cell_type": "code",
   "execution_count": 8,
   "metadata": {},
   "outputs": [
    {
     "data": {
      "text/plain": [
       "(50000, 3)"
      ]
     },
     "execution_count": 8,
     "metadata": {},
     "output_type": "execute_result"
    }
   ],
   "source": [
    "nba_tweets.shape"
   ]
  },
  {
   "cell_type": "code",
   "execution_count": 9,
   "metadata": {},
   "outputs": [],
   "source": [
    "df = pd.concat([nba_tweets.assign(target=0)[['target', 'text']],\n",
    "                twitter_sent]).reset_index(drop=True)"
   ]
  },
  {
   "cell_type": "code",
   "execution_count": 10,
   "metadata": {},
   "outputs": [],
   "source": [
    "training_sample = df.sample(frac=0.9).index"
   ]
  },
  {
   "cell_type": "code",
   "execution_count": 11,
   "metadata": {},
   "outputs": [
    {
     "data": {
      "text/html": [],
      "text/plain": [
       "<IPython.core.display.HTML object>"
      ]
     },
     "metadata": {},
     "output_type": "display_data"
    },
    {
     "data": {
      "text/html": [],
      "text/plain": [
       "<IPython.core.display.HTML object>"
      ]
     },
     "metadata": {},
     "output_type": "display_data"
    }
   ],
   "source": [
    "data_lm = TextLMDataBunch.from_df(path, train_df=df.loc[training_sample], \n",
    "                               valid_df=df.drop(training_sample))"
   ]
  },
  {
   "cell_type": "code",
   "execution_count": 12,
   "metadata": {
    "scrolled": true
   },
   "outputs": [
    {
     "data": {
      "text/html": [
       "<table border=\"1\" class=\"dataframe\">\n",
       "  <thead>\n",
       "    <tr style=\"text-align: right;\">\n",
       "      <th>idx</th>\n",
       "      <th>text</th>\n",
       "    </tr>\n",
       "  </thead>\n",
       "  <tbody>\n",
       "    <tr>\n",
       "      <td>0</td>\n",
       "      <td>.. now she is looking for her xxunk 2000 - mebbe its on e - bay xxunk ... xxbos xxmaj the xxmaj jets logo is trash has been trash an out of date for years team near the bottom of the league in merchandise sales i see more xxmaj brooklyn xxmaj nets gear in xxup nyc then xxmaj jets and how long have the xxmaj jets been around ? ?</td>\n",
       "    </tr>\n",
       "    <tr>\n",
       "      <td>1</td>\n",
       "      <td>got off to a slow start that year . xxbos xxmaj sources : xxmaj blazers to acquire xxmaj whiteside from xxmaj heat xxmaj the xxmaj miami xxmaj heat have agreed to trade center xxmaj hassan xxmaj whiteside to the xxmaj portland xxmaj trail xxmaj blazers for xxmaj mo xxmaj harkless and xxmaj meyers xxmaj leonard , league sources told xxup espn 's xxmaj adrian xxmaj wojnarowski .   … #</td>\n",
       "    </tr>\n",
       "    <tr>\n",
       "      <td>2</td>\n",
       "      <td>out for dinner now xxup yum ! xxrep 4 x xxbos xxmaj the number 1 team in the west xxmaj denver xxmaj nuggets xxbos any tricks with the mobile me stuff ? # xxunk think i need to wait til i am a little less exhausted , need to upload my podcast xxbos xxmaj new xxmaj jason xxmaj williams xxmaj throwback xxmaj swingman xxmaj jersey # 55 xxmaj sacramento xxmaj</td>\n",
       "    </tr>\n",
       "    <tr>\n",
       "      <td>3</td>\n",
       "      <td>xxmaj melo xxbos i get the feeling that # xxmaj tweetie will get better and better . xxmaj good v1.0 release xxbos xxmaj is this a xxmaj miami xxmaj heat fan thing ? lol   … xxbos xxmaj sam is drinking from a starbucks cup . xxmaj he 's so cool xxbos xxmaj silver : xxmaj china xxmaj asked xxmaj for xxmaj houston xxmaj rockets xxup gm xxmaj morey xxmaj</td>\n",
       "    </tr>\n",
       "    <tr>\n",
       "      <td>4</td>\n",
       "      <td>to be praying they do n’t see the xxmaj jazz in the first round again . xxbos waiting on the rain to stop . xxbos xxmaj charlotte hornets legend xxmaj kobe xxmaj bryant ... that has to be a w xxbos xxmaj here come the storms . xxmaj again . xxbos xxmaj mitchell &amp; xxmaj ness xxmaj just xxmaj don xxmaj shorts ( xxmaj boston xxmaj celtics ) \\n</td>\n",
       "    </tr>\n",
       "  </tbody>\n",
       "</table>"
      ],
      "text/plain": [
       "<IPython.core.display.HTML object>"
      ]
     },
     "metadata": {},
     "output_type": "display_data"
    }
   ],
   "source": [
    "data_lm.show_batch()"
   ]
  },
  {
   "cell_type": "code",
   "execution_count": 13,
   "metadata": {},
   "outputs": [],
   "source": [
    "learn = language_model_learner(data_lm, AWD_LSTM, drop_mult=0.3)"
   ]
  },
  {
   "cell_type": "code",
   "execution_count": 14,
   "metadata": {},
   "outputs": [
    {
     "data": {
      "text/html": [
       "\n",
       "    <div>\n",
       "        <style>\n",
       "            /* Turns off some styling */\n",
       "            progress {\n",
       "                /* gets rid of default border in Firefox and Opera. */\n",
       "                border: none;\n",
       "                /* Needs to be in here for Safari polyfill so background images work as expected. */\n",
       "                background-size: auto;\n",
       "            }\n",
       "            .progress-bar-interrupted, .progress-bar-interrupted::-webkit-progress-bar {\n",
       "                background: #F44336;\n",
       "            }\n",
       "        </style>\n",
       "      <progress value='0' class='' max='1', style='width:300px; height:20px; vertical-align: middle;'></progress>\n",
       "      0.00% [0/1 00:00<00:00]\n",
       "    </div>\n",
       "    \n",
       "<table border=\"1\" class=\"dataframe\">\n",
       "  <thead>\n",
       "    <tr style=\"text-align: left;\">\n",
       "      <th>epoch</th>\n",
       "      <th>train_loss</th>\n",
       "      <th>valid_loss</th>\n",
       "      <th>accuracy</th>\n",
       "      <th>time</th>\n",
       "    </tr>\n",
       "  </thead>\n",
       "  <tbody>\n",
       "  </tbody>\n",
       "</table><p>\n",
       "\n",
       "    <div>\n",
       "        <style>\n",
       "            /* Turns off some styling */\n",
       "            progress {\n",
       "                /* gets rid of default border in Firefox and Opera. */\n",
       "                border: none;\n",
       "                /* Needs to be in here for Safari polyfill so background images work as expected. */\n",
       "                background-size: auto;\n",
       "            }\n",
       "            .progress-bar-interrupted, .progress-bar-interrupted::-webkit-progress-bar {\n",
       "                background: #F44336;\n",
       "            }\n",
       "        </style>\n",
       "      <progress value='99' class='' max='542', style='width:300px; height:20px; vertical-align: middle;'></progress>\n",
       "      18.27% [99/542 00:16<01:15 10.4048]\n",
       "    </div>\n",
       "    "
      ],
      "text/plain": [
       "<IPython.core.display.HTML object>"
      ]
     },
     "metadata": {},
     "output_type": "display_data"
    },
    {
     "name": "stdout",
     "output_type": "stream",
     "text": [
      "LR Finder is complete, type {learner_name}.recorder.plot() to see the graph.\n"
     ]
    },
    {
     "data": {
      "image/png": "[encoded data removed]",
      "text/plain": [
       "<Figure size 432x288 with 1 Axes>"
      ]
     },
     "metadata": {
      "needs_background": "light"
     },
     "output_type": "display_data"
    }
   ],
   "source": [
    "learn.lr_find() # find learning rate\n",
    "learn.recorder.plot() # plot learning rate graph"
   ]
  },
  {
   "cell_type": "code",
   "execution_count": 15,
   "metadata": {},
   "outputs": [
    {
     "data": {
      "text/html": [
       "<table border=\"1\" class=\"dataframe\">\n",
       "  <thead>\n",
       "    <tr style=\"text-align: left;\">\n",
       "      <th>epoch</th>\n",
       "      <th>train_loss</th>\n",
       "      <th>valid_loss</th>\n",
       "      <th>accuracy</th>\n",
       "      <th>time</th>\n",
       "    </tr>\n",
       "  </thead>\n",
       "  <tbody>\n",
       "    <tr>\n",
       "      <td>0</td>\n",
       "      <td>4.130762</td>\n",
       "      <td>3.885421</td>\n",
       "      <td>0.318633</td>\n",
       "      <td>01:36</td>\n",
       "    </tr>\n",
       "    <tr>\n",
       "      <td>1</td>\n",
       "      <td>3.808546</td>\n",
       "      <td>3.775033</td>\n",
       "      <td>0.330610</td>\n",
       "      <td>01:36</td>\n",
       "    </tr>\n",
       "  </tbody>\n",
       "</table>"
      ],
      "text/plain": [
       "<IPython.core.display.HTML object>"
      ]
     },
     "metadata": {},
     "output_type": "display_data"
    }
   ],
   "source": [
    "learn.fit_one_cycle(2, 1e-2, moms=(0.8,0.7))"
   ]
  },
  {
   "cell_type": "code",
   "execution_count": 16,
   "metadata": {},
   "outputs": [],
   "source": [
    "learn.save('lm_tweet')"
   ]
  },
  {
   "cell_type": "code",
   "execution_count": 17,
   "metadata": {},
   "outputs": [],
   "source": [
    "learn.load('lm_tweet');"
   ]
  },
  {
   "cell_type": "code",
   "execution_count": 18,
   "metadata": {},
   "outputs": [],
   "source": [
    "learn.unfreeze()"
   ]
  },
  {
   "cell_type": "code",
   "execution_count": 19,
   "metadata": {},
   "outputs": [
    {
     "data": {
      "text/html": [
       "<table border=\"1\" class=\"dataframe\">\n",
       "  <thead>\n",
       "    <tr style=\"text-align: left;\">\n",
       "      <th>epoch</th>\n",
       "      <th>train_loss</th>\n",
       "      <th>valid_loss</th>\n",
       "      <th>accuracy</th>\n",
       "      <th>time</th>\n",
       "    </tr>\n",
       "  </thead>\n",
       "  <tbody>\n",
       "    <tr>\n",
       "      <td>0</td>\n",
       "      <td>3.550723</td>\n",
       "      <td>3.627091</td>\n",
       "      <td>0.349996</td>\n",
       "      <td>01:37</td>\n",
       "    </tr>\n",
       "    <tr>\n",
       "      <td>1</td>\n",
       "      <td>3.383995</td>\n",
       "      <td>3.590724</td>\n",
       "      <td>0.355939</td>\n",
       "      <td>01:37</td>\n",
       "    </tr>\n",
       "  </tbody>\n",
       "</table>"
      ],
      "text/plain": [
       "<IPython.core.display.HTML object>"
      ]
     },
     "metadata": {},
     "output_type": "display_data"
    }
   ],
   "source": [
    "learn.fit_one_cycle(2, 1e-3, moms=(0.8,0.7))"
   ]
  },
  {
   "cell_type": "code",
   "execution_count": 20,
   "metadata": {},
   "outputs": [],
   "source": [
    "learn.save('fine_tuned_lm')"
   ]
  },
  {
   "cell_type": "code",
   "execution_count": 21,
   "metadata": {},
   "outputs": [
    {
     "data": {
      "text/plain": [
       "LanguageLearner(data=TextLMDataBunch;\n",
       "\n",
       "Train: LabelList (90000 items)\n",
       "x: LMTextList\n",
       "xxbos xxup best xxmaj man xxmaj sports xxmaj podcast xxmaj episode \n",
       " \n",
       "  xxmaj jay and xxmaj derek discuss : \n",
       "  -dallas xxmaj cowboys recap \n",
       "  xxunk xxmaj texans recap \n",
       "  xxup -nfl xxmaj recap \n",
       "  xxunk xxmaj spurs xxmaj progress xxmaj report \n",
       "  xxup -nba progress report \n",
       "  xxunk xxmaj football playoffs,xxbos where did everybody go xxrep 11 ?,xxbos xxunk xxmaj good , good . xxmaj hehe xxunk .. now she is looking for her xxunk 2000 - mebbe its on e - bay xxunk ...,xxbos xxmaj the xxmaj jets logo is trash has been trash an out of date for years team near the bottom of the league in merchandise sales i see more xxmaj brooklyn xxmaj nets gear in xxup nyc then xxmaj jets and how long have the xxmaj jets been around ? ?,xxbos xxmaj feel like pure shit just want xxmaj phoenix xxmaj suns regular season basketball back\n",
       "y: LMLabelList\n",
       ",,,,\n",
       "Path: /home/jupyter/Projects/twitter_sentiment;\n",
       "\n",
       "Valid: LabelList (10000 items)\n",
       "x: LMTextList\n",
       "xxbos xxmaj mason xxmaj plumlee spills beers : xxmaj brooklyn xxmaj nets at xxmaj washington xxmaj wizards    @youtubeより,xxbos xxup nba - xxmaj san xxmaj antonio xxmaj spurs xxunk \" xxmaj xxunk xxunk xxmaj mat # xxup sdssupplycorp # sdsmarket \n",
       "  $ xxunk \n",
       "  ➤   pic.twitter.com / xxunk,xxbos xxmaj no other xxmaj miami xxmaj heat player will wear xxmaj no . 1  ,xxbos xxmaj derrick xxmaj white on xxmaj nuggets saying xxup g4 is must - win , xxmaj paul xxmaj millsap guarantees xxmaj denver win : ' i know they 're going to bring it . xxmaj they 've played great all year and we expect them to come out ready to go . xxmaj so we are going to make some adjustments and be better in xxmaj game 4 . ' # xxmaj spurs # xxunk / xxmaj xxunk t,xxbos   … \n",
       "  # marco # added a bet ' xxmaj utah xxmaj jazz - xxmaj detroit xxmaj pistons ' with odds and prediction xxunk for xxmaj utah xxmaj jazz , stake - 10 / 10\n",
       "y: LMLabelList\n",
       ",,,,\n",
       "Path: /home/jupyter/Projects/twitter_sentiment;\n",
       "\n",
       "Test: None, model=SequentialRNN(\n",
       "  (0): AWD_LSTM(\n",
       "    (encoder): Embedding(29176, 400, padding_idx=1)\n",
       "    (encoder_dp): EmbeddingDropout(\n",
       "      (emb): Embedding(29176, 400, padding_idx=1)\n",
       "    )\n",
       "    (rnns): ModuleList(\n",
       "      (0): WeightDropout(\n",
       "        (module): LSTM(400, 1152, batch_first=True)\n",
       "      )\n",
       "      (1): WeightDropout(\n",
       "        (module): LSTM(1152, 1152, batch_first=True)\n",
       "      )\n",
       "      (2): WeightDropout(\n",
       "        (module): LSTM(1152, 400, batch_first=True)\n",
       "      )\n",
       "    )\n",
       "    (input_dp): RNNDropout()\n",
       "    (hidden_dps): ModuleList(\n",
       "      (0): RNNDropout()\n",
       "      (1): RNNDropout()\n",
       "      (2): RNNDropout()\n",
       "    )\n",
       "  )\n",
       "  (1): LinearDecoder(\n",
       "    (decoder): Linear(in_features=400, out_features=29176, bias=True)\n",
       "    (output_dp): RNNDropout()\n",
       "  )\n",
       "), opt_func=functools.partial(<class 'torch.optim.adam.Adam'>, betas=(0.9, 0.99)), loss_func=FlattenedLoss of CrossEntropyLoss(), metrics=[<function accuracy at 0x7f810363b680>], true_wd=True, bn_wd=True, wd=0.01, train_bn=True, path=PosixPath('/home/jupyter/Projects/twitter_sentiment'), model_dir='models', callback_fns=[functools.partial(<class 'fastai.basic_train.Recorder'>, add_time=True, silent=False)], callbacks=[RNNTrainer\n",
       "learn: ...\n",
       "alpha: 2.0\n",
       "beta: 1.0], layer_groups=[Sequential(\n",
       "  (0): WeightDropout(\n",
       "    (module): LSTM(400, 1152, batch_first=True)\n",
       "  )\n",
       "  (1): RNNDropout()\n",
       "), Sequential(\n",
       "  (0): WeightDropout(\n",
       "    (module): LSTM(1152, 1152, batch_first=True)\n",
       "  )\n",
       "  (1): RNNDropout()\n",
       "), Sequential(\n",
       "  (0): WeightDropout(\n",
       "    (module): LSTM(1152, 400, batch_first=True)\n",
       "  )\n",
       "  (1): RNNDropout()\n",
       "), Sequential(\n",
       "  (0): Embedding(29176, 400, padding_idx=1)\n",
       "  (1): EmbeddingDropout(\n",
       "    (emb): Embedding(29176, 400, padding_idx=1)\n",
       "  )\n",
       "  (2): LinearDecoder(\n",
       "    (decoder): Linear(in_features=400, out_features=29176, bias=True)\n",
       "    (output_dp): RNNDropout()\n",
       "  )\n",
       ")], add_time=True, silent=False)"
      ]
     },
     "execution_count": 21,
     "metadata": {},
     "output_type": "execute_result"
    }
   ],
   "source": [
    "learn.load('fine_tuned_lm')"
   ]
  },
  {
   "cell_type": "code",
   "execution_count": 22,
   "metadata": {},
   "outputs": [
    {
     "name": "stdout",
     "output_type": "stream",
     "text": [
      "Kinga can wait for the Denver Nuggets to match a trade offer for Derrick Rose on thursday . What will the Denver Nuggets do this ? Awful fans   … xxbos The\n",
      "\n",
      "Kinga can you figure it out ! Good luck to you soon ... xxbos New Orleans Pelicans vs Miami Heat - Full Game Highlights | Sunday , November 2 , 2019\n",
      "\n",
      "Kinga can tell my friend she 's his date xxbos Happy Birthday Congratulations To The Cleveland Cavaliers , The Cleveland Cavaliers The Basketball Team # Cleveland #\n",
      "\n",
      "Kinga can be nice to the hot out there xxbos Miami Heat : Kristaps Porzingis has been published on Twitter - Twitter - Facebook -   … xxbos Kill my time ... Thanks\n",
      "\n",
      "Kinga can be the most Milwaukee Bucks player on the season xxbos The Utah Jazz should have gotten better xxbos The Lakers , Indiana , Get The Complete and Complete\n"
     ]
    }
   ],
   "source": [
    "TEXT = \"Kinga can\"\n",
    "N_WORDS = 40\n",
    "N_SENTENCES = 5\n",
    "print(\"\\n\\n\".join(learn.predict(TEXT, N_WORDS, temperature=0.75) for _ in range(N_SENTENCES)))"
   ]
  },
  {
   "cell_type": "code",
   "execution_count": 23,
   "metadata": {},
   "outputs": [],
   "source": [
    "learn.save_encoder('fine_tuned_enc')"
   ]
  },
  {
   "cell_type": "code",
   "execution_count": 24,
   "metadata": {},
   "outputs": [],
   "source": [
    "# export model to have it saved forevz\n",
    "learn.export()"
   ]
  },
  {
   "cell_type": "code",
   "execution_count": 9,
   "metadata": {},
   "outputs": [
    {
     "data": {
      "text/html": [],
      "text/plain": [
       "<IPython.core.display.HTML object>"
      ]
     },
     "metadata": {},
     "output_type": "display_data"
    },
    {
     "data": {
      "text/html": [],
      "text/plain": [
       "<IPython.core.display.HTML object>"
      ]
     },
     "metadata": {},
     "output_type": "display_data"
    }
   ],
   "source": [
    "# learn = load_learner(path=path, file='trained_on_50k.pkl')"
   ]
  },
  {
   "cell_type": "code",
   "execution_count": 26,
   "metadata": {},
   "outputs": [
    {
     "name": "stdout",
     "output_type": "stream",
     "text": [
      "Emily is the greatest of all time ! And Now that i 'm so sleepy ! Have to drink coffee ? Now i miss my FRIENDS . xxbos Watching Beyonce at the Mtv Movie\n",
      "\n",
      "Emily is the greatest Chicago Bulls player ever . xxbos The Pacers ... The Pacers are the greatest franchise in Indiana xxbos The Miami Heat hit a three - point lead over the\n",
      "\n",
      "Emily is the greatest Chicago Bulls player ever .   … xxbos As a Chicago Bulls fan , Budenholzer ’s name is Giannis . Just a smoke on him . It 's not because he\n",
      "\n",
      "Emily is the greatest coach in the history of the Atlanta Hawks . xxbos Y'all just got a da g antonio Spurs player xxbos If you ’re asking my sister to go to the Utah Jazz !\n",
      "\n",
      "Emily is the greatest Boston sports star xxbos Playing on the Toronto Raptors xxbos You ’re not a fan of Houston Rockets . i ’ve never been a fan of this team . i ’m not a\n"
     ]
    }
   ],
   "source": [
    "TEXT = \"Emily is the greatest\"\n",
    "N_WORDS = 40\n",
    "N_SENTENCES = 5\n",
    "print(\"\\n\\n\".join(learn.predict(TEXT, N_WORDS, temperature=0.75) for _ in range(N_SENTENCES)))"
   ]
  },
  {
   "cell_type": "code",
   "execution_count": 27,
   "metadata": {},
   "outputs": [],
   "source": [
    "# !kaggle datasets download -d kazanova/sentiment140\n",
    "# !unzip sentiment140.zip -d {os.getcwd()}"
   ]
  },
  {
   "cell_type": "code",
   "execution_count": 28,
   "metadata": {},
   "outputs": [],
   "source": [
    "# twitter_sent.head()"
   ]
  },
  {
   "cell_type": "code",
   "execution_count": 29,
   "metadata": {},
   "outputs": [
    {
     "data": {
      "text/html": [],
      "text/plain": [
       "<IPython.core.display.HTML object>"
      ]
     },
     "metadata": {},
     "output_type": "display_data"
    },
    {
     "data": {
      "text/html": [],
      "text/plain": [
       "<IPython.core.display.HTML object>"
      ]
     },
     "metadata": {},
     "output_type": "display_data"
    }
   ],
   "source": [
    "data_clas = (TextList.from_df(twitter_sent, cols='text', vocab=data_lm.vocab)\n",
    " .split_by_rand_pct(0.2)\n",
    " .label_from_df('target')\n",
    " .databunch())"
   ]
  },
  {
   "cell_type": "code",
   "execution_count": 30,
   "metadata": {},
   "outputs": [
    {
     "data": {
      "text/html": [
       "<table border=\"1\" class=\"dataframe\">\n",
       "  <thead>\n",
       "    <tr style=\"text-align: right;\">\n",
       "      <th>text</th>\n",
       "      <th>target</th>\n",
       "    </tr>\n",
       "  </thead>\n",
       "  <tbody>\n",
       "    <tr>\n",
       "      <td>xxbos xxunk xxunk xxunk # xxunk xxunk    ìê °  ì   ? xxunk © ´ ì   xxunk ° xxunk xxmaj search xxunk xxunk   xxunk xxunk ìê ° xxunk ? xxunk ° xxunk   xxunk ",
       " xxunk http : / / is.gd / xxmaj xxunk ì ° xxunk   xxunk ",
       " xxunk ë © xxunk ì   ? xxunk</td>\n",
       "      <td>4</td>\n",
       "    </tr>\n",
       "    <tr>\n",
       "      <td>xxbos xxmaj got xxmaj up xxmaj early xxmaj to xxmaj get xxmaj sum xxmaj extra xxmaj work xxmaj in xxmaj and i xxmaj get xxmaj stuck xxmaj in xxmaj traffic xxmaj for a xxmaj hour . w xxrep 9 o w , xxmaj dam u xxmaj lincoln xxmaj dr xxrep 5 i ve ! ! ! xxmaj good xxmaj morning</td>\n",
       "      <td>0</td>\n",
       "    </tr>\n",
       "    <tr>\n",
       "      <td>xxbos @andyclemmensen xxup wtf xxup arnt u xxup at xxup nov xxrep 7 a ? xxup the xxup chick i xxup rang xxup xxunk xxup on xxup the xxup radio xxup said xxup you xxup aree &amp; &amp; xxup tht xxup she xxup will xxup try n xxup get u xxup to xxup ring xxup me reply plz</td>\n",
       "      <td>0</td>\n",
       "    </tr>\n",
       "    <tr>\n",
       "      <td>xxbos xxup is xxup crying xxup because xxup her xxup dog xxup xxunk xxup has xxup already xxup passed xxup away xxup he xxup was xxup the xxup best xxup dog i xxup could xxup have xxup and xxup he xxup died xxup at xxup about xxunk xxup so xxup sad (</td>\n",
       "      <td>0</td>\n",
       "    </tr>\n",
       "    <tr>\n",
       "      <td>xxbos xxunk ? ? ? ? , xxrep 7 ? xxrep 6 ? . xxrep 4 ? xxrep 8 ? xxrep 6 ? xxrep 7 ? xxrep 10 ? ? xxrep 7 ? ? xxrep 4 ? xxrep 4 ? xxrep 7 ? , xxrep 4 ? xxrep 10 ?</td>\n",
       "      <td>4</td>\n",
       "    </tr>\n",
       "  </tbody>\n",
       "</table>"
      ],
      "text/plain": [
       "<IPython.core.display.HTML object>"
      ]
     },
     "metadata": {},
     "output_type": "display_data"
    }
   ],
   "source": [
    "data_clas.show_batch(5)"
   ]
  },
  {
   "cell_type": "code",
   "execution_count": 31,
   "metadata": {},
   "outputs": [
    {
     "data": {
      "text/plain": [
       "RNNLearner(data=TextClasDataBunch;\n",
       "\n",
       "Train: LabelList (40000 items)\n",
       "x: TextList\n",
       "xxbos i miss nikki nu nu already she s always there when needed thank u xxx,xxbos xxmaj so i had a dream last night . i remember a sign which clearly told me where to get a job . i ca n't xxunk what the sign said .,xxbos it is raining again,xxbos @misskeribaby wish i was in xxup la right now,xxbos xxmaj nala xxmaj xxunk still has a full tummy from bread basket # 2 http : / / apps.facebook.com / dogbook / profile / view / xxunk\n",
       "y: CategoryList\n",
       "0,0,0,0,0\n",
       "Path: .;\n",
       "\n",
       "Valid: LabelList (10000 items)\n",
       "x: TextList\n",
       "xxbos xxunk poor kitties not doing good today hugs to your kitty too,xxbos xxmaj did n't i just go to sleep ... xxmaj feels like it,xxbos xxmaj twittering is so fun and totally adorable ! xxmaj took pictures of me but all fail , hahah xxmaj man ! i ca nt wait to go shopping on sunday ! !,xxbos okay .. time to take a shower and head to the xxmaj mall of xxmaj asia ...,xxbos xxmaj not much to do ! xxmaj about to do my hair then ill leave i guess . i m so excited ! xxmaj mark and xxmaj erin are getting married ya'll !\n",
       "y: CategoryList\n",
       "0,0,4,4,4\n",
       "Path: .;\n",
       "\n",
       "Test: None, model=SequentialRNN(\n",
       "  (0): MultiBatchEncoder(\n",
       "    (module): AWD_LSTM(\n",
       "      (encoder): Embedding(29176, 400, padding_idx=1)\n",
       "      (encoder_dp): EmbeddingDropout(\n",
       "        (emb): Embedding(29176, 400, padding_idx=1)\n",
       "      )\n",
       "      (rnns): ModuleList(\n",
       "        (0): WeightDropout(\n",
       "          (module): LSTM(400, 1152, batch_first=True)\n",
       "        )\n",
       "        (1): WeightDropout(\n",
       "          (module): LSTM(1152, 1152, batch_first=True)\n",
       "        )\n",
       "        (2): WeightDropout(\n",
       "          (module): LSTM(1152, 400, batch_first=True)\n",
       "        )\n",
       "      )\n",
       "      (input_dp): RNNDropout()\n",
       "      (hidden_dps): ModuleList(\n",
       "        (0): RNNDropout()\n",
       "        (1): RNNDropout()\n",
       "        (2): RNNDropout()\n",
       "      )\n",
       "    )\n",
       "  )\n",
       "  (1): PoolingLinearClassifier(\n",
       "    (layers): Sequential(\n",
       "      (0): BatchNorm1d(1200, eps=1e-05, momentum=0.1, affine=True, track_running_stats=True)\n",
       "      (1): Dropout(p=0.2, inplace=False)\n",
       "      (2): Linear(in_features=1200, out_features=50, bias=True)\n",
       "      (3): ReLU(inplace=True)\n",
       "      (4): BatchNorm1d(50, eps=1e-05, momentum=0.1, affine=True, track_running_stats=True)\n",
       "      (5): Dropout(p=0.1, inplace=False)\n",
       "      (6): Linear(in_features=50, out_features=2, bias=True)\n",
       "    )\n",
       "  )\n",
       "), opt_func=functools.partial(<class 'torch.optim.adam.Adam'>, betas=(0.9, 0.99)), loss_func=FlattenedLoss of CrossEntropyLoss(), metrics=[<function accuracy at 0x7f810363b680>], true_wd=True, bn_wd=True, wd=0.01, train_bn=True, path=PosixPath('.'), model_dir='models', callback_fns=[functools.partial(<class 'fastai.basic_train.Recorder'>, add_time=True, silent=False)], callbacks=[RNNTrainer\n",
       "learn: ...\n",
       "alpha: 2.0\n",
       "beta: 1.0], layer_groups=[Sequential(\n",
       "  (0): Embedding(29176, 400, padding_idx=1)\n",
       "  (1): EmbeddingDropout(\n",
       "    (emb): Embedding(29176, 400, padding_idx=1)\n",
       "  )\n",
       "), Sequential(\n",
       "  (0): WeightDropout(\n",
       "    (module): LSTM(400, 1152, batch_first=True)\n",
       "  )\n",
       "  (1): RNNDropout()\n",
       "), Sequential(\n",
       "  (0): WeightDropout(\n",
       "    (module): LSTM(1152, 1152, batch_first=True)\n",
       "  )\n",
       "  (1): RNNDropout()\n",
       "), Sequential(\n",
       "  (0): WeightDropout(\n",
       "    (module): LSTM(1152, 400, batch_first=True)\n",
       "  )\n",
       "  (1): RNNDropout()\n",
       "), Sequential(\n",
       "  (0): PoolingLinearClassifier(\n",
       "    (layers): Sequential(\n",
       "      (0): BatchNorm1d(1200, eps=1e-05, momentum=0.1, affine=True, track_running_stats=True)\n",
       "      (1): Dropout(p=0.2, inplace=False)\n",
       "      (2): Linear(in_features=1200, out_features=50, bias=True)\n",
       "      (3): ReLU(inplace=True)\n",
       "      (4): BatchNorm1d(50, eps=1e-05, momentum=0.1, affine=True, track_running_stats=True)\n",
       "      (5): Dropout(p=0.1, inplace=False)\n",
       "      (6): Linear(in_features=50, out_features=2, bias=True)\n",
       "    )\n",
       "  )\n",
       ")], add_time=True, silent=False)"
      ]
     },
     "execution_count": 31,
     "metadata": {},
     "output_type": "execute_result"
    }
   ],
   "source": [
    "learn = text_classifier_learner(data_clas, AWD_LSTM, drop_mult=0.5)\n",
    "learn.load_encoder('fine_tuned_enc')"
   ]
  },
  {
   "cell_type": "code",
   "execution_count": 32,
   "metadata": {},
   "outputs": [
    {
     "data": {
      "text/html": [
       "\n",
       "    <div>\n",
       "        <style>\n",
       "            /* Turns off some styling */\n",
       "            progress {\n",
       "                /* gets rid of default border in Firefox and Opera. */\n",
       "                border: none;\n",
       "                /* Needs to be in here for Safari polyfill so background images work as expected. */\n",
       "                background-size: auto;\n",
       "            }\n",
       "            .progress-bar-interrupted, .progress-bar-interrupted::-webkit-progress-bar {\n",
       "                background: #F44336;\n",
       "            }\n",
       "        </style>\n",
       "      <progress value='0' class='' max='1', style='width:300px; height:20px; vertical-align: middle;'></progress>\n",
       "      0.00% [0/1 00:00<00:00]\n",
       "    </div>\n",
       "    \n",
       "<table border=\"1\" class=\"dataframe\">\n",
       "  <thead>\n",
       "    <tr style=\"text-align: left;\">\n",
       "      <th>epoch</th>\n",
       "      <th>train_loss</th>\n",
       "      <th>valid_loss</th>\n",
       "      <th>accuracy</th>\n",
       "      <th>time</th>\n",
       "    </tr>\n",
       "  </thead>\n",
       "  <tbody>\n",
       "  </tbody>\n",
       "</table><p>\n",
       "\n",
       "    <div>\n",
       "        <style>\n",
       "            /* Turns off some styling */\n",
       "            progress {\n",
       "                /* gets rid of default border in Firefox and Opera. */\n",
       "                border: none;\n",
       "                /* Needs to be in here for Safari polyfill so background images work as expected. */\n",
       "                background-size: auto;\n",
       "            }\n",
       "            .progress-bar-interrupted, .progress-bar-interrupted::-webkit-progress-bar {\n",
       "                background: #F44336;\n",
       "            }\n",
       "        </style>\n",
       "      <progress value='94' class='' max='625', style='width:300px; height:20px; vertical-align: middle;'></progress>\n",
       "      15.04% [94/625 00:03<00:22 2.2963]\n",
       "    </div>\n",
       "    "
      ],
      "text/plain": [
       "<IPython.core.display.HTML object>"
      ]
     },
     "metadata": {},
     "output_type": "display_data"
    },
    {
     "name": "stdout",
     "output_type": "stream",
     "text": [
      "LR Finder is complete, type {learner_name}.recorder.plot() to see the graph.\n"
     ]
    },
    {
     "data": {
      "image/png": "[encoded data removed]",
      "text/plain": [
       "<Figure size 432x288 with 1 Axes>"
      ]
     },
     "metadata": {
      "needs_background": "light"
     },
     "output_type": "display_data"
    }
   ],
   "source": [
    "learn.lr_find()\n",
    "learn.recorder.plot()"
   ]
  },
  {
   "cell_type": "code",
   "execution_count": 33,
   "metadata": {},
   "outputs": [
    {
     "data": {
      "text/html": [
       "<table border=\"1\" class=\"dataframe\">\n",
       "  <thead>\n",
       "    <tr style=\"text-align: left;\">\n",
       "      <th>epoch</th>\n",
       "      <th>train_loss</th>\n",
       "      <th>valid_loss</th>\n",
       "      <th>accuracy</th>\n",
       "      <th>time</th>\n",
       "    </tr>\n",
       "  </thead>\n",
       "  <tbody>\n",
       "    <tr>\n",
       "      <td>0</td>\n",
       "      <td>0.588087</td>\n",
       "      <td>0.551115</td>\n",
       "      <td>0.717900</td>\n",
       "      <td>00:23</td>\n",
       "    </tr>\n",
       "  </tbody>\n",
       "</table>"
      ],
      "text/plain": [
       "<IPython.core.display.HTML object>"
      ]
     },
     "metadata": {},
     "output_type": "display_data"
    }
   ],
   "source": [
    "learn.fit_one_cycle(1, 1e-03, moms=(0.8,0.7))"
   ]
  },
  {
   "cell_type": "code",
   "execution_count": 34,
   "metadata": {},
   "outputs": [
    {
     "data": {
      "text/html": [
       "<table border=\"1\" class=\"dataframe\">\n",
       "  <thead>\n",
       "    <tr style=\"text-align: left;\">\n",
       "      <th>epoch</th>\n",
       "      <th>train_loss</th>\n",
       "      <th>valid_loss</th>\n",
       "      <th>accuracy</th>\n",
       "      <th>time</th>\n",
       "    </tr>\n",
       "  </thead>\n",
       "  <tbody>\n",
       "    <tr>\n",
       "      <td>0</td>\n",
       "      <td>0.545249</td>\n",
       "      <td>0.504104</td>\n",
       "      <td>0.752100</td>\n",
       "      <td>00:24</td>\n",
       "    </tr>\n",
       "  </tbody>\n",
       "</table>"
      ],
      "text/plain": [
       "<IPython.core.display.HTML object>"
      ]
     },
     "metadata": {},
     "output_type": "display_data"
    }
   ],
   "source": [
    "learn.freeze_to(-2)\n",
    "learn.fit_one_cycle(1, slice(1e-03/(2.6**4),1e-03), moms=(0.8,0.7))"
   ]
  },
  {
   "cell_type": "code",
   "execution_count": 35,
   "metadata": {},
   "outputs": [
    {
     "data": {
      "text/html": [
       "<table border=\"1\" class=\"dataframe\">\n",
       "  <thead>\n",
       "    <tr style=\"text-align: left;\">\n",
       "      <th>epoch</th>\n",
       "      <th>train_loss</th>\n",
       "      <th>valid_loss</th>\n",
       "      <th>accuracy</th>\n",
       "      <th>time</th>\n",
       "    </tr>\n",
       "  </thead>\n",
       "  <tbody>\n",
       "    <tr>\n",
       "      <td>0</td>\n",
       "      <td>0.510335</td>\n",
       "      <td>0.460780</td>\n",
       "      <td>0.780600</td>\n",
       "      <td>00:25</td>\n",
       "    </tr>\n",
       "    <tr>\n",
       "      <td>1</td>\n",
       "      <td>0.471027</td>\n",
       "      <td>0.431052</td>\n",
       "      <td>0.797900</td>\n",
       "      <td>00:25</td>\n",
       "    </tr>\n",
       "    <tr>\n",
       "      <td>2</td>\n",
       "      <td>0.407781</td>\n",
       "      <td>0.420583</td>\n",
       "      <td>0.804500</td>\n",
       "      <td>00:25</td>\n",
       "    </tr>\n",
       "  </tbody>\n",
       "</table>"
      ],
      "text/plain": [
       "<IPython.core.display.HTML object>"
      ]
     },
     "metadata": {},
     "output_type": "display_data"
    }
   ],
   "source": [
    "learn.freeze_to(-3)\n",
    "learn.fit_one_cycle(3, slice(5e-03/(2.6**4),5e-03), moms=(0.8,0.7))"
   ]
  },
  {
   "cell_type": "code",
   "execution_count": 36,
   "metadata": {},
   "outputs": [
    {
     "data": {
      "text/html": [
       "<table border=\"1\" class=\"dataframe\">\n",
       "  <thead>\n",
       "    <tr style=\"text-align: left;\">\n",
       "      <th>epoch</th>\n",
       "      <th>train_loss</th>\n",
       "      <th>valid_loss</th>\n",
       "      <th>accuracy</th>\n",
       "      <th>time</th>\n",
       "    </tr>\n",
       "  </thead>\n",
       "  <tbody>\n",
       "    <tr>\n",
       "      <td>0</td>\n",
       "      <td>0.401900</td>\n",
       "      <td>0.420643</td>\n",
       "      <td>0.806300</td>\n",
       "      <td>00:27</td>\n",
       "    </tr>\n",
       "    <tr>\n",
       "      <td>1</td>\n",
       "      <td>0.378050</td>\n",
       "      <td>0.419410</td>\n",
       "      <td>0.806600</td>\n",
       "      <td>00:27</td>\n",
       "    </tr>\n",
       "  </tbody>\n",
       "</table>"
      ],
      "text/plain": [
       "<IPython.core.display.HTML object>"
      ]
     },
     "metadata": {},
     "output_type": "display_data"
    }
   ],
   "source": [
    "learn.unfreeze()\n",
    "learn.fit_one_cycle(2, slice(5e-04/(2.6**4),5e-04), moms=(0.8,0.7))"
   ]
  },
  {
   "cell_type": "code",
   "execution_count": 6,
   "metadata": {},
   "outputs": [],
   "source": [
    "def label_single_tweet(tweet):\n",
    "    y, pred, raw_pred = learn.predict(tweet)\n",
    "    prob0 = raw_pred[0].item()\n",
    "    prob1 = raw_pred[1].item()\n",
    "    \n",
    "    print(f\"\"\"Probability of this tweet being positive: {100*prob1:.2f}%\\nProbability of this tweet being negative: {100*prob0:.2f}%\"\"\")\n",
    "    \n",
    "    return [tweet, prob0, prob1]\n",
    "    \n",
    "\n",
    "def label_tweet(tweet):\n",
    "    y, pred, raw_pred = learn.predict(tweet)\n",
    "    prob0 = raw_pred[0].item()\n",
    "    prob1 = raw_pred[1].item()\n",
    "    \n",
    "    return [tweet, prob0, prob1]\n",
    "    "
   ]
  },
  {
   "cell_type": "code",
   "execution_count": 7,
   "metadata": {},
   "outputs": [
    {
     "data": {
      "text/html": [],
      "text/plain": [
       "<IPython.core.display.HTML object>"
      ]
     },
     "metadata": {},
     "output_type": "display_data"
    },
    {
     "data": {
      "text/html": [],
      "text/plain": [
       "<IPython.core.display.HTML object>"
      ]
     },
     "metadata": {},
     "output_type": "display_data"
    }
   ],
   "source": [
    "learn = load_learner(path=path, file='trained_on_50k.pkl')"
   ]
  },
  {
   "cell_type": "code",
   "execution_count": 8,
   "metadata": {
    "scrolled": true
   },
   "outputs": [
    {
     "data": {
      "text/plain": [
       "(Category 4, tensor(1), tensor([0.0095, 0.9905]))"
      ]
     },
     "execution_count": 8,
     "metadata": {},
     "output_type": "execute_result"
    }
   ],
   "source": [
    "learn.predict(\"This is amazing\")"
   ]
  },
  {
   "cell_type": "code",
   "execution_count": 9,
   "metadata": {},
   "outputs": [],
   "source": [
    "# 1: probability that negative\n",
    "# 2: probability that positive\n"
   ]
  },
  {
   "cell_type": "code",
   "execution_count": 11,
   "metadata": {},
   "outputs": [],
   "source": [
    "all_nba = (pd.read_csv('team_tweets.csv', engine='python')\n",
    "              .dropna()\n",
    "              .reset_index(drop=True).drop(['index'], axis=1))"
   ]
  },
  {
   "cell_type": "code",
   "execution_count": 13,
   "metadata": {},
   "outputs": [],
   "source": [
    "import time"
   ]
  },
  {
   "cell_type": "code",
   "execution_count": 14,
   "metadata": {},
   "outputs": [
    {
     "data": {
      "text/plain": [
       "1585055285.1133983"
      ]
     },
     "execution_count": 14,
     "metadata": {},
     "output_type": "execute_result"
    }
   ],
   "source": [
    "time.time()"
   ]
  },
  {
   "cell_type": "code",
   "execution_count": 19,
   "metadata": {
    "scrolled": true
   },
   "outputs": [
    {
     "name": "stdout",
     "output_type": "stream",
     "text": [
      "5000\n",
      "Elapsed time: 4.582298560937246 minutes\n",
      "10000\n",
      "Elapsed time: 9.128525785605113 minutes\n",
      "15000\n",
      "Elapsed time: 13.649574474493663 minutes\n",
      "20000\n",
      "Elapsed time: 18.190812257925668 minutes\n",
      "25000\n",
      "Elapsed time: 22.66006857951482 minutes\n",
      "30000\n",
      "Elapsed time: 27.153691883881887 minutes\n",
      "35000\n",
      "Elapsed time: 31.631145950158437 minutes\n",
      "40000\n",
      "Elapsed time: 36.12810468673706 minutes\n",
      "45000\n",
      "Elapsed time: 40.637909797827405 minutes\n",
      "50000\n",
      "Elapsed time: 45.10789074897766 minutes\n",
      "55000\n",
      "Elapsed time: 49.56763736009598 minutes\n",
      "60000\n",
      "Elapsed time: 54.021047000090284 minutes\n",
      "65000\n",
      "Elapsed time: 58.48449407418569 minutes\n",
      "70000\n",
      "Elapsed time: 62.89410005013148 minutes\n",
      "75000\n",
      "Elapsed time: 67.3670379002889 minutes\n",
      "80000\n",
      "Elapsed time: 71.81036352713903 minutes\n",
      "85000\n",
      "Elapsed time: 76.2701109011968 minutes\n",
      "90000\n",
      "Elapsed time: 80.75904856920242 minutes\n",
      "95000\n",
      "Elapsed time: 85.21263271570206 minutes\n",
      "100000\n",
      "Elapsed time: 89.65764048894246 minutes\n",
      "105000\n",
      "Elapsed time: 94.02154578765233 minutes\n",
      "110000\n",
      "Elapsed time: 98.40144104957581 minutes\n",
      "115000\n",
      "Elapsed time: 102.75736759503683 minutes\n",
      "120000\n",
      "Elapsed time: 107.18791711727778 minutes\n",
      "125000\n",
      "Elapsed time: 111.72677413622539 minutes\n",
      "130000\n",
      "Elapsed time: 116.22168364922206 minutes\n",
      "135000\n",
      "Elapsed time: 120.68556834856669 minutes\n",
      "140000\n",
      "Elapsed time: 125.20223928292593 minutes\n",
      "145000\n",
      "Elapsed time: 129.67559744119643 minutes\n",
      "150000\n",
      "Elapsed time: 134.16490648587543 minutes\n",
      "155000\n",
      "Elapsed time: 138.7318948507309 minutes\n",
      "160000\n",
      "Elapsed time: 143.22251926263172 minutes\n",
      "165000\n",
      "Elapsed time: 147.49947564204533 minutes\n",
      "170000\n",
      "Elapsed time: 151.83122360308965 minutes\n",
      "175000\n",
      "Elapsed time: 156.3470187306404 minutes\n",
      "180000\n",
      "Elapsed time: 160.8475400129954 minutes\n",
      "185000\n",
      "Elapsed time: 165.34063510894777 minutes\n",
      "190000\n",
      "Elapsed time: 169.82613135973614 minutes\n",
      "195000\n",
      "Elapsed time: 174.21024825572968 minutes\n",
      "200000\n",
      "Elapsed time: 178.49993946154913 minutes\n",
      "205000\n",
      "Elapsed time: 182.90959388017654 minutes\n",
      "210000\n",
      "Elapsed time: 187.45333306392033 minutes\n",
      "215000\n",
      "Elapsed time: 191.96927697261174 minutes\n",
      "220000\n",
      "Elapsed time: 196.4860337138176 minutes\n",
      "225000\n",
      "Elapsed time: 200.85897880792618 minutes\n",
      "230000\n",
      "Elapsed time: 205.43625995318095 minutes\n",
      "235000\n",
      "Elapsed time: 210.0180888613065 minutes\n",
      "240000\n",
      "Elapsed time: 214.57634454170864 minutes\n",
      "245000\n",
      "Elapsed time: 219.16432545979816 minutes\n",
      "250000\n",
      "Elapsed time: 223.7412198384603 minutes\n"
     ]
    }
   ],
   "source": [
    "#PROGRESSBAR\n",
    "tweet_predictions = []\n",
    "i = 0\n",
    "start = time.time()\n",
    "for tweet in all_nba['text']:\n",
    "    i = i+1\n",
    "    tweet_predictions.append(label_tweet(tweet))\n",
    "    if i % 5000 == 0:\n",
    "        print(i)\n",
    "        pd.DataFrame(tweet_predictions).to_csv(f'tweets_{i}.csv', index=False)\n",
    "        currently = time.time()\n",
    "        print(f\"Elapsed time: {(currently - start)/60} minutes\")"
   ]
  },
  {
   "cell_type": "code",
   "execution_count": 23,
   "metadata": {},
   "outputs": [
    {
     "data": {
      "text/html": [
       "<div>\n",
       "<style scoped>\n",
       "    .dataframe tbody tr th:only-of-type {\n",
       "        vertical-align: middle;\n",
       "    }\n",
       "\n",
       "    .dataframe tbody tr th {\n",
       "        vertical-align: top;\n",
       "    }\n",
       "\n",
       "    .dataframe thead th {\n",
       "        text-align: right;\n",
       "    }\n",
       "</style>\n",
       "<table border=\"1\" class=\"dataframe\">\n",
       "  <thead>\n",
       "    <tr style=\"text-align: right;\">\n",
       "      <th></th>\n",
       "      <th>timestamp</th>\n",
       "      <th>text</th>\n",
       "      <th>team</th>\n",
       "    </tr>\n",
       "  </thead>\n",
       "  <tbody>\n",
       "    <tr>\n",
       "      <th>0</th>\n",
       "      <td>2019-02-23T23:45:42</td>\n",
       "      <td>Bucks WORST duo of Giannis &amp; Middleton (lol) i...</td>\n",
       "      <td>bucks</td>\n",
       "    </tr>\n",
       "    <tr>\n",
       "      <th>1</th>\n",
       "      <td>2019-02-23T23:35:03</td>\n",
       "      <td>#Basketball Preview: @Timberwolves vs. @Bucks ...</td>\n",
       "      <td>bucks</td>\n",
       "    </tr>\n",
       "    <tr>\n",
       "      <th>2</th>\n",
       "      <td>2019-02-23T23:33:35</td>\n",
       "      <td>3 team parlay:\\n\\nBoston Celtics ML\\nWisconsin...</td>\n",
       "      <td>bucks</td>\n",
       "    </tr>\n",
       "    <tr>\n",
       "      <th>3</th>\n",
       "      <td>2019-02-23T23:28:05</td>\n",
       "      <td>Milwaukee Bucks: Are They The Next Super Team ...</td>\n",
       "      <td>bucks</td>\n",
       "    </tr>\n",
       "    <tr>\n",
       "      <th>4</th>\n",
       "      <td>2019-02-23T23:28:03</td>\n",
       "      <td>Milwaukee Bucks: Are They The Next Super Team ...</td>\n",
       "      <td>bucks</td>\n",
       "    </tr>\n",
       "  </tbody>\n",
       "</table>\n",
       "</div>"
      ],
      "text/plain": [
       "             timestamp                                               text  \\\n",
       "0  2019-02-23T23:45:42  Bucks WORST duo of Giannis & Middleton (lol) i...   \n",
       "1  2019-02-23T23:35:03  #Basketball Preview: @Timberwolves vs. @Bucks ...   \n",
       "2  2019-02-23T23:33:35  3 team parlay:\\n\\nBoston Celtics ML\\nWisconsin...   \n",
       "3  2019-02-23T23:28:05  Milwaukee Bucks: Are They The Next Super Team ...   \n",
       "4  2019-02-23T23:28:03  Milwaukee Bucks: Are They The Next Super Team ...   \n",
       "\n",
       "    team  \n",
       "0  bucks  \n",
       "1  bucks  \n",
       "2  bucks  \n",
       "3  bucks  \n",
       "4  bucks  "
      ]
     },
     "execution_count": 23,
     "metadata": {},
     "output_type": "execute_result"
    }
   ],
   "source": [
    "all_nba.head()"
   ]
  },
  {
   "cell_type": "code",
   "execution_count": 24,
   "metadata": {},
   "outputs": [],
   "source": [
    "output_df = (pd.DataFrame(tweet_predictions, \n",
    "                         columns=['tweet', 'probability_negative', 'probability_positive'])\n",
    "                        .assign(teams=all_nba['team']))"
   ]
  },
  {
   "cell_type": "code",
   "execution_count": 26,
   "metadata": {},
   "outputs": [],
   "source": [
    "output_df.to_csv('tweets_scored.csv', index=False)"
   ]
  },
  {
   "cell_type": "code",
   "execution_count": null,
   "metadata": {},
   "outputs": [],
   "source": []
  }
 ],
 "metadata": {
  "kernelspec": {
   "display_name": "Python 3",
   "language": "python",
   "name": "python3"
  },
  "language_info": {
   "codemirror_mode": {
    "name": "ipython",
    "version": 3
   },
   "file_extension": ".py",
   "mimetype": "text/x-python",
   "name": "python",
   "nbconvert_exporter": "python",
   "pygments_lexer": "ipython3",
   "version": "3.7.3"
  }
 },
 "nbformat": 4,
 "nbformat_minor": 4
}
